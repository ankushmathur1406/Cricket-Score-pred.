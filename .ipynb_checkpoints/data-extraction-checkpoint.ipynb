{
 "cells": [
  {
   "cell_type": "code",
   "execution_count": 3,
   "id": "842bb004-0d6b-4cb4-ade1-796fb96561e5",
   "metadata": {},
   "outputs": [],
   "source": [
    "import numpy as np\n",
    "import pandas as pd\n",
    "from yaml import safe_load\n",
    "import os\n",
    "from tqdm import tqdm"
   ]
  },
  {
   "cell_type": "code",
   "execution_count": 4,
   "id": "74667008-6cb4-47c3-8bb5-88115e0632c3",
   "metadata": {},
   "outputs": [],
   "source": [
    "allFiles=[]\n",
    "for file in os.listdir('C:\\\\Users\\\\ankus\\\\T-20 Score predictor\\\\dataset'):\n",
    "    allFiles.append(os.path.join('C:\\\\Users\\\\ankus\\\\T-20 Score predictor\\\\dataset', file))"
   ]
  },
  {
   "cell_type": "code",
   "execution_count": 5,
   "id": "692c16dd-77e3-42cd-a61d-7a6c7eb8530b",
   "metadata": {},
   "outputs": [
    {
     "data": {
      "text/plain": [
       "['C:\\\\Users\\\\ankus\\\\T-20 Score predictor\\\\dataset\\\\1001349.yaml',\n",
       " 'C:\\\\Users\\\\ankus\\\\T-20 Score predictor\\\\dataset\\\\1001351.yaml',\n",
       " 'C:\\\\Users\\\\ankus\\\\T-20 Score predictor\\\\dataset\\\\1001353.yaml',\n",
       " 'C:\\\\Users\\\\ankus\\\\T-20 Score predictor\\\\dataset\\\\1004729.yaml',\n",
       " 'C:\\\\Users\\\\ankus\\\\T-20 Score predictor\\\\dataset\\\\1007655.yaml',\n",
       " 'C:\\\\Users\\\\ankus\\\\T-20 Score predictor\\\\dataset\\\\1007657.yaml',\n",
       " 'C:\\\\Users\\\\ankus\\\\T-20 Score predictor\\\\dataset\\\\1007659.yaml',\n",
       " 'C:\\\\Users\\\\ankus\\\\T-20 Score predictor\\\\dataset\\\\1019979.yaml',\n",
       " 'C:\\\\Users\\\\ankus\\\\T-20 Score predictor\\\\dataset\\\\1019981.yaml',\n",
       " 'C:\\\\Users\\\\ankus\\\\T-20 Score predictor\\\\dataset\\\\1019983.yaml']"
      ]
     },
     "execution_count": 5,
     "metadata": {},
     "output_type": "execute_result"
    }
   ],
   "source": [
    "allFiles[0:10]"
   ]
  },
  {
   "cell_type": "code",
   "execution_count": null,
   "id": "e377e76a-776b-485a-a609-c54c7474a6e1",
   "metadata": {},
   "outputs": [
    {
     "name": "stderr",
     "output_type": "stream",
     "text": [
      " 90%|███████████████████████████████████████████████████████████████████████████████████████████████████▏          | 3615/4009 [1:36:54<2:22:31, 21.71s/it]"
     ]
    }
   ],
   "source": [
    "final_data=pd.DataFrame()\n",
    "cnt=1\n",
    "for file in tqdm(allFiles):\n",
    "    with open(file, 'r') as f:\n",
    "        df=pd.json_normalize(safe_load(f))\n",
    "        df['match_id']=cnt\n",
    "        final_data=pd.concat([final_data,df],ignore_index=True)\n",
    "        cnt=cnt+1\n",
    "final_data"
   ]
  },
  {
   "cell_type": "code",
   "execution_count": null,
   "id": "42b8f8d1-b99e-41e6-b1b8-0343c1964d94",
   "metadata": {},
   "outputs": [],
   "source": [
    "final_df_copy=final_data.copy()"
   ]
  },
  {
   "cell_type": "code",
   "execution_count": null,
   "id": "f5ea654c-468b-491c-9661-50579f9643c6",
   "metadata": {},
   "outputs": [],
   "source": [
    "final_data"
   ]
  }
 ],
 "metadata": {
  "kernelspec": {
   "display_name": "Python 3 (ipykernel)",
   "language": "python",
   "name": "python3"
  },
  "language_info": {
   "codemirror_mode": {
    "name": "ipython",
    "version": 3
   },
   "file_extension": ".py",
   "mimetype": "text/x-python",
   "name": "python",
   "nbconvert_exporter": "python",
   "pygments_lexer": "ipython3",
   "version": "3.13.0"
  }
 },
 "nbformat": 4,
 "nbformat_minor": 5
}
